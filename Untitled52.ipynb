{
  "nbformat": 4,
  "nbformat_minor": 0,
  "metadata": {
    "colab": {
      "private_outputs": true,
      "provenance": [],
      "authorship_tag": "ABX9TyPBJiaLxpQsrgO97f/ye77g",
      "include_colab_link": true
    },
    "kernelspec": {
      "name": "python3",
      "display_name": "Python 3"
    },
    "language_info": {
      "name": "python"
    },
    "accelerator": "GPU"
  },
  "cells": [
    {
      "cell_type": "markdown",
      "metadata": {
        "id": "view-in-github",
        "colab_type": "text"
      },
      "source": [
        "<a href=\"https://colab.research.google.com/github/mablus/Cloud_Cb_id/blob/main/Untitled52.ipynb\" target=\"_parent\"><img src=\"https://colab.research.google.com/assets/colab-badge.svg\" alt=\"Open In Colab\"/></a>"
      ]
    },
    {
      "cell_type": "code",
      "execution_count": null,
      "metadata": {
        "id": "4cQ2zG85G-2B"
      },
      "outputs": [],
      "source": [
        "# Montando o drive \n",
        "from google.colab import drive\n",
        "drive.mount('/content/drive')"
      ]
    },
    {
      "cell_type": "code",
      "source": [
        "!nvcc --version"
      ],
      "metadata": {
        "id": "Lxpfuu5nHIOA"
      },
      "execution_count": null,
      "outputs": []
    },
    {
      "cell_type": "code",
      "source": [
        "!git clone https://github.com/AlexeyAB/darknet"
      ],
      "metadata": {
        "id": "q0SxWWpxHQuX"
      },
      "execution_count": null,
      "outputs": []
    },
    {
      "cell_type": "code",
      "source": [
        "%cd darknet\n",
        "!sed -i 's/OPENCV=0/OPENCV=1/' Makefile\n",
        "!sed -i 's/GPU=0/GPU=1/' Makefile\n",
        "!sed -i 's/CUDNN=0/CUDNN=1/' Makefile\n",
        "!sed -i 's/CUDNN_HALF=0/CUDNN_HALF=1/' Makefile"
      ],
      "metadata": {
        "id": "bVEXbXquHZtU"
      },
      "execution_count": null,
      "outputs": []
    },
    {
      "cell_type": "code",
      "source": [
        "!wget https://github.com/AlexeyAB/darknet/releases/download/darknet_yolo_v3_optimal/yolov4.weights"
      ],
      "metadata": {
        "id": "GaJsVGiMHcya"
      },
      "execution_count": null,
      "outputs": []
    },
    {
      "cell_type": "code",
      "source": [
        "!make"
      ],
      "metadata": {
        "id": "73THphNIHggZ"
      },
      "execution_count": null,
      "outputs": []
    },
    {
      "cell_type": "code",
      "source": [
        "!./darknet detector test cfg/coco.data cfg/yolov4.cfg yolov4.weights data/person.jpg"
      ],
      "metadata": {
        "id": "dNfEMEE9H2pm"
      },
      "execution_count": null,
      "outputs": []
    },
    {
      "cell_type": "code",
      "source": [
        "#download files\n",
        "def imShow(path):\n",
        "  import cv2\n",
        "  import matplotlib.pyplot as plt\n",
        "  %matplotlib inline\n",
        "\n",
        "  image = cv2.imread(path)\n",
        "  height, width = image.shape[:2]\n",
        "  resized_image = cv2.resize(image,(3*width, 3*height), interpolation = cv2.INTER_CUBIC)\n",
        "\n",
        "  fig = plt.gcf()\n",
        "  fig.set_size_inches(18, 10)\n",
        "  plt.axis(\"off\")\n",
        "  #plt.rcParams['figure.figsize'] = [10, 5]\n",
        "  plt.imshow(cv2.cvtColor(resized_image, cv2.COLOR_BGR2RGB))\n",
        "  plt.show()\n",
        "  \n",
        "  \n",
        "def upload():\n",
        "  from google.colab import files\n",
        "  uploaded = files.upload() \n",
        "  for name, data in uploaded.items():\n",
        "    with open(name, 'wb') as f:\n",
        "      f.write(data)\n",
        "      print ('saved file', name)\n",
        "def download(path):\n",
        "  from google.colab import files\n",
        "  files.download(path)"
      ],
      "metadata": {
        "id": "hlqdvMgJH54N"
      },
      "execution_count": null,
      "outputs": []
    },
    {
      "cell_type": "code",
      "source": [
        "imShow('predictions.jpg')"
      ],
      "metadata": {
        "id": "vJcX7xECH8pT"
      },
      "execution_count": null,
      "outputs": []
    },
    {
      "cell_type": "code",
      "source": [
        "!wget https://github.com/AlexeyAB/darknet/releases/download/darknet_yolo_v3_optimal/yolov4.conv.137"
      ],
      "metadata": {
        "id": "qFuGPAzGH_sz"
      },
      "execution_count": null,
      "outputs": []
    },
    {
      "cell_type": "code",
      "source": [
        "!mkdir dataset\n",
        "%cd dataset"
      ],
      "metadata": {
        "id": "JlEmE8ILIELr"
      },
      "execution_count": null,
      "outputs": []
    },
    {
      "cell_type": "code",
      "source": [
        "!git clone https://github.com/mablus/Cloud_Cb_id.git"
      ],
      "metadata": {
        "id": "rzRvgY_3I35B"
      },
      "execution_count": null,
      "outputs": []
    },
    {
      "cell_type": "code",
      "source": [
        "import os\n",
        "os.getcwd()\n",
        "collection = '/content/darknet/dataset/Cloud_Cb_id/Dataset-cloudCb/train'\n",
        "file = open('/content/darknet/dataset/Cloud_Cb_id/Dataset-cloudCb/train.txt', \"w+\")\n",
        "for filename in os.listdir(collection):\n",
        "  if(filename[-3:] != 'txt'):\n",
        "    file.write('/content/darknet/dataset/Cloud_Cb_id/Dataset-cloudCb/train' + filename + '\\n')\n",
        "file.close()"
      ],
      "metadata": {
        "id": "rpJSom6tI8Sl"
      },
      "execution_count": null,
      "outputs": []
    },
    {
      "cell_type": "code",
      "source": [
        "import os\n",
        "import matplotlib.pyplot as plt\n",
        "import matplotlib.gridspec as gridspec\n",
        "import glob\n",
        "def read_label(image_path):\n",
        "   file_name = image_path.replace('.jpg', '.txt')\n",
        "   with open(file_name, 'rt') as file:\n",
        "     print(os.path.basename(file_name) + ': \\n' + file.read())\n",
        "image_path = glob.glob(\"/content/darknet/dataset/Cloud_Cb_id/Dataset-cloudCb/train/*.jpg\")\n",
        "fig = plt.figure(figsize=(12,8))\n",
        "cols = 2\n",
        "rows = 5\n",
        "grid = gridspec.GridSpec(nrows=rows, ncols=cols, figure=fig)\n",
        "for i in range(cols*rows):\n",
        "  fig.add_subplot(grid[i])\n",
        "  image=plt.imread(image_path[i])\n",
        "  plt.title(os.path.basename(image_path[i]))\n",
        "  plt.axis(False)\n",
        "  plt.imshow(image)\n",
        "  read_label(image_path[i])\n",
        "plt.savefig(\"dataset_examples.jpg\", dpi=300)"
      ],
      "metadata": {
        "id": "12Wlp3cBJsdR"
      },
      "execution_count": null,
      "outputs": []
    },
    {
      "cell_type": "code",
      "source": [
        "%cd .."
      ],
      "metadata": {
        "id": "yD2nW4c0KAtv"
      },
      "execution_count": null,
      "outputs": []
    },
    {
      "cell_type": "code",
      "source": [
        "!./darknet detector train /content/darknet/dataset/Cloud_Cb_id/Dataset-cloudCb/classe.data /content/darknet/dataset/Cloud_Cb_id/Dataset-cloudCb/yolov4.cfg /content/darknet/yolov4.conv.137 -dont_show -map\n"
      ],
      "metadata": {
        "id": "DPeaR27HLQ_5"
      },
      "execution_count": null,
      "outputs": []
    },
    {
      "cell_type": "code",
      "source": [
        "!./darknet detector map /content/darknet/dataset/Cloud_Cb_id/Dataset-cloudCb/classe.data /content/darknet/dataset/Cloud_Cb_id/Dataset-cloudCb/yolov4.cfg /content/drive/MyDrive/backup/yolov4_last.weights"
      ],
      "metadata": {
        "id": "OsfPF9enUF8O"
      },
      "execution_count": null,
      "outputs": []
    },
    {
      "cell_type": "code",
      "source": [
        "img_path = \"/content/darknet/dataset/Cloud_Cb_id/Dataset-cloudCb/imagemparateste.jpg\"\n",
        "!./darknet detector test /content/darknet/dataset/Cloud_Cb_id/Dataset-cloudCb/classe.data /content/darknet/dataset/Cloud_Cb_id/Dataset-cloudCb/yolov4.cfg /content/drive/MyDrive/backup/yolov4_last.weights {img_path} -dont-show\n"
      ],
      "metadata": {
        "id": "vH6szI6FbtHZ"
      },
      "execution_count": null,
      "outputs": []
    },
    {
      "cell_type": "code",
      "source": [
        "imShow('/content/darknet/predictions.jpg')"
      ],
      "metadata": {
        "id": "mxJCzvmWdavj"
      },
      "execution_count": null,
      "outputs": []
    }
  ]
}